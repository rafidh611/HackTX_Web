{
 "cells": [
  {
   "cell_type": "code",
   "execution_count": 94,
   "metadata": {},
   "outputs": [],
   "source": [
    "import pandas as pd\n",
    "import random "
   ]
  },
  {
   "cell_type": "code",
   "execution_count": 5,
   "metadata": {},
   "outputs": [],
   "source": [
    "from sklearn import tree\n",
    "from sklearn.tree import DecisionTreeClassifier\n",
    "from sklearn.model_selection import train_test_split\n",
    "from sklearn.metrics import accuracy_score"
   ]
  },
  {
   "cell_type": "code",
   "execution_count": 6,
   "metadata": {},
   "outputs": [],
   "source": [
    "df = pd.read_csv('scores.csv')"
   ]
  },
  {
   "cell_type": "code",
   "execution_count": 7,
   "metadata": {},
   "outputs": [
    {
     "data": {
      "text/plain": [
       "School ID                       object\n",
       "School Name                     object\n",
       "Borough                         object\n",
       "Building Code                   object\n",
       "Street Address                  object\n",
       "City                            object\n",
       "State                           object\n",
       "Zip Code                         int64\n",
       "Latitude                       float64\n",
       "Longitude                      float64\n",
       "Phone Number                    object\n",
       "Start Time                      object\n",
       "End Time                        object\n",
       "Student Enrollment             float64\n",
       "Percent White                   object\n",
       "Percent Black                   object\n",
       "Percent Hispanic                object\n",
       "Percent Asian                   object\n",
       "Average Score (SAT Math)       float64\n",
       "Average Score (SAT Reading)    float64\n",
       "Average Score (SAT Writing)    float64\n",
       "Percent Tested                  object\n",
       "dtype: object"
      ]
     },
     "execution_count": 7,
     "metadata": {},
     "output_type": "execute_result"
    }
   ],
   "source": [
    "df.dtypes"
   ]
  },
  {
   "cell_type": "code",
   "execution_count": 8,
   "metadata": {},
   "outputs": [],
   "source": [
    "df1 = df[['Average Score (SAT Math)','Zip Code','Student Enrollment', 'Percent White', 'Percent Black', 'Percent Hispanic', 'Percent Asian', 'Percent Tested']]"
   ]
  },
  {
   "cell_type": "code",
   "execution_count": 9,
   "metadata": {},
   "outputs": [],
   "source": [
    "df1 = df1.dropna()"
   ]
  },
  {
   "cell_type": "code",
   "execution_count": 10,
   "metadata": {},
   "outputs": [],
   "source": [
    "df1['Percent White'] = df['Percent White'].str.rstrip('%').astype('float') / 100.0\n",
    "df1['Percent Black'] = df['Percent Black'].str.rstrip('%').astype('float') / 100.0\n",
    "df1['Percent Hispanic'] = df['Percent Hispanic'].str.rstrip('%').astype('float') / 100.0\n",
    "df1['Percent Asian'] = df['Percent Asian'].str.rstrip('%').astype('float') / 100.0\n",
    "df1['Percent Tested'] = df['Percent Tested'].str.rstrip('%').astype('float') / 100.0\n"
   ]
  },
  {
   "cell_type": "code",
   "execution_count": 34,
   "metadata": {},
   "outputs": [
    {
     "data": {
      "text/html": [
       "<div>\n",
       "<style scoped>\n",
       "    .dataframe tbody tr th:only-of-type {\n",
       "        vertical-align: middle;\n",
       "    }\n",
       "\n",
       "    .dataframe tbody tr th {\n",
       "        vertical-align: top;\n",
       "    }\n",
       "\n",
       "    .dataframe thead th {\n",
       "        text-align: right;\n",
       "    }\n",
       "</style>\n",
       "<table border=\"1\" class=\"dataframe\">\n",
       "  <thead>\n",
       "    <tr style=\"text-align: right;\">\n",
       "      <th></th>\n",
       "      <th>Average Score (SAT Math)</th>\n",
       "      <th>Zip Code</th>\n",
       "      <th>Student Enrollment</th>\n",
       "      <th>Percent White</th>\n",
       "      <th>Percent Black</th>\n",
       "      <th>Percent Hispanic</th>\n",
       "      <th>Percent Asian</th>\n",
       "      <th>Percent Tested</th>\n",
       "      <th>Score Range</th>\n",
       "    </tr>\n",
       "  </thead>\n",
       "  <tbody>\n",
       "    <tr>\n",
       "      <th>2</th>\n",
       "      <td>657.0</td>\n",
       "      <td>10002</td>\n",
       "      <td>1735.0</td>\n",
       "      <td>0.286</td>\n",
       "      <td>0.133</td>\n",
       "      <td>0.180</td>\n",
       "      <td>0.385</td>\n",
       "      <td>0.910</td>\n",
       "      <td>6.0</td>\n",
       "    </tr>\n",
       "    <tr>\n",
       "      <th>3</th>\n",
       "      <td>395.0</td>\n",
       "      <td>10002</td>\n",
       "      <td>358.0</td>\n",
       "      <td>0.117</td>\n",
       "      <td>0.385</td>\n",
       "      <td>0.413</td>\n",
       "      <td>0.059</td>\n",
       "      <td>0.789</td>\n",
       "      <td>3.0</td>\n",
       "    </tr>\n",
       "    <tr>\n",
       "      <th>4</th>\n",
       "      <td>418.0</td>\n",
       "      <td>10002</td>\n",
       "      <td>383.0</td>\n",
       "      <td>0.031</td>\n",
       "      <td>0.282</td>\n",
       "      <td>0.569</td>\n",
       "      <td>0.086</td>\n",
       "      <td>0.651</td>\n",
       "      <td>4.0</td>\n",
       "    </tr>\n",
       "    <tr>\n",
       "      <th>5</th>\n",
       "      <td>613.0</td>\n",
       "      <td>10002</td>\n",
       "      <td>416.0</td>\n",
       "      <td>0.017</td>\n",
       "      <td>0.031</td>\n",
       "      <td>0.055</td>\n",
       "      <td>0.889</td>\n",
       "      <td>0.959</td>\n",
       "      <td>6.0</td>\n",
       "    </tr>\n",
       "    <tr>\n",
       "      <th>6</th>\n",
       "      <td>410.0</td>\n",
       "      <td>10002</td>\n",
       "      <td>255.0</td>\n",
       "      <td>0.039</td>\n",
       "      <td>0.244</td>\n",
       "      <td>0.566</td>\n",
       "      <td>0.132</td>\n",
       "      <td>0.597</td>\n",
       "      <td>4.0</td>\n",
       "    </tr>\n",
       "  </tbody>\n",
       "</table>\n",
       "</div>"
      ],
      "text/plain": [
       "   Average Score (SAT Math)  Zip Code  Student Enrollment  Percent White  \\\n",
       "2                     657.0     10002              1735.0          0.286   \n",
       "3                     395.0     10002               358.0          0.117   \n",
       "4                     418.0     10002               383.0          0.031   \n",
       "5                     613.0     10002               416.0          0.017   \n",
       "6                     410.0     10002               255.0          0.039   \n",
       "\n",
       "   Percent Black  Percent Hispanic  Percent Asian  Percent Tested  Score Range  \n",
       "2          0.133             0.180          0.385           0.910          6.0  \n",
       "3          0.385             0.413          0.059           0.789          3.0  \n",
       "4          0.282             0.569          0.086           0.651          4.0  \n",
       "5          0.031             0.055          0.889           0.959          6.0  \n",
       "6          0.244             0.566          0.132           0.597          4.0  "
      ]
     },
     "execution_count": 34,
     "metadata": {},
     "output_type": "execute_result"
    }
   ],
   "source": [
    "df1['Score Range'] = df1['Average Score (SAT Math)'] // 100\n",
    "df1.head()"
   ]
  },
  {
   "cell_type": "code",
   "execution_count": 70,
   "metadata": {},
   "outputs": [],
   "source": [
    "train, test =  train_test_split(df1, test_size = 0.15)\n",
    "features = ['Zip Code', 'Percent White', 'Percent Black', 'Percent Hispanic', 'Percent Asian', 'Percent Tested']\n",
    "#features = ['Zip Code']"
   ]
  },
  {
   "cell_type": "code",
   "execution_count": 71,
   "metadata": {},
   "outputs": [],
   "source": [
    "x_train = train[features]\n",
    "y_train = train['Score Range']\n",
    "\n",
    "x_test = test[features]\n",
    "y_test = test['Score Range']\n",
    "\n",
    "results = {}\n"
   ]
  },
  {
   "cell_type": "code",
   "execution_count": 72,
   "metadata": {},
   "outputs": [
    {
     "name": "stdout",
     "output_type": "stream",
     "text": [
      "Accuracy using Decision Tree:  66.7 %\n"
     ]
    }
   ],
   "source": [
    "c = DecisionTreeClassifier(min_samples_split=100)\n",
    "dt = c.fit(x_train, y_train)\n",
    "\n",
    "y_pred = c.predict(x_test)\n",
    "y_pred\n",
    "dt_score = accuracy_score(y_test, y_pred) * 100\n",
    "results.update({'Decision Tree Classifier' : dt_score})\n",
    "print(\"Accuracy using Decision Tree: \", round(dt_score, 1), \"%\")"
   ]
  },
  {
   "cell_type": "code",
   "execution_count": null,
   "metadata": {},
   "outputs": [],
   "source": []
  },
  {
   "cell_type": "code",
   "execution_count": 73,
   "metadata": {},
   "outputs": [
    {
     "name": "stdout",
     "output_type": "stream",
     "text": [
      "Accuracy using Knn Tree:  66.7 %\n"
     ]
    }
   ],
   "source": [
    "#knn\n",
    "from sklearn.neighbors import KNeighborsClassifier\n",
    "knn = KNeighborsClassifier(3)\n",
    "knn.fit(x_train, y_train)\n",
    "knn_pred = c.predict(x_test)\n",
    "knn_score = accuracy_score(y_test, knn_pred) * 100\n",
    "results.update({'KNN' : knn_score})\n",
    "print(\"Accuracy using Knn Tree: \", round(knn_score, 1), \"%\")"
   ]
  },
  {
   "cell_type": "code",
   "execution_count": 74,
   "metadata": {},
   "outputs": [
    {
     "name": "stdout",
     "output_type": "stream",
     "text": [
      "Accuracy using random forest:  68.4 %\n"
     ]
    }
   ],
   "source": [
    "from sklearn.ensemble import RandomForestClassifier\n",
    "forest = RandomForestClassifier(max_depth=5, n_estimators=10, max_features=1)\n",
    "forest.fit(x_train, y_train)\n",
    "forest_pred = forest.predict(x_test)\n",
    "from sklearn.metrics import accuracy_score\n",
    "forest_score = accuracy_score(y_test, forest_pred) * 100\n",
    "results.update({'Random Forest Classifier' : forest_score})\n",
    "print(\"Accuracy using random forest: \", round(forest_score, 1), \"%\")"
   ]
  },
  {
   "cell_type": "code",
   "execution_count": 75,
   "metadata": {},
   "outputs": [
    {
     "name": "stdout",
     "output_type": "stream",
     "text": [
      "Accuracy using ada:  64.9 %\n"
     ]
    }
   ],
   "source": [
    "from sklearn.ensemble import AdaBoostClassifier\n",
    "ada = AdaBoostClassifier(n_estimators=100)\n",
    "ada.fit(x_train, y_train)\n",
    "ada_pred = ada.predict(x_test)\n",
    "from sklearn.metrics import accuracy_score\n",
    "ada_score = accuracy_score(y_test, ada_pred) * 100\n",
    "results.update({'AdaBoost Classifier' : ada_score})\n",
    "print(\"Accuracy using ada: \", round(ada_score, 1), \"%\")"
   ]
  },
  {
   "cell_type": "code",
   "execution_count": 76,
   "metadata": {},
   "outputs": [
    {
     "name": "stdout",
     "output_type": "stream",
     "text": [
      "Accuracy using Gradient Boosting Classifier:  73.7 %\n"
     ]
    }
   ],
   "source": [
    "###This is the best one####\n",
    "\n",
    "from sklearn.ensemble import GradientBoostingClassifier\n",
    "grad = GradientBoostingClassifier(n_estimators=100, learning_rate=.1, max_depth=1, random_state=0)\n",
    "grad.fit(x_train, y_train)\n",
    "predicted = grad.predict(x_test)\n",
    "grad_score = accuracy_score(y_test, predicted)*100\n",
    "results.update({'Gradient Boosting Classifier' : grad_score})\n",
    "print(\"Accuracy using Gradient Boosting Classifier: \", round(grad_score, 1), \"%\")"
   ]
  },
  {
   "cell_type": "code",
   "execution_count": 77,
   "metadata": {},
   "outputs": [
    {
     "name": "stdout",
     "output_type": "stream",
     "text": [
      "Accuracy using gpc:  57.9 %\n"
     ]
    }
   ],
   "source": [
    "from sklearn.gaussian_process import GaussianProcessClassifier\n",
    "from sklearn.gaussian_process.kernels import RBF\n",
    "gpc = GaussianProcessClassifier(1.0 * RBF(1.0), warm_start=True)\n",
    "gpc.fit(x_train, y_train)\n",
    "gpc_pred = gpc.predict(x_test)\n",
    "from sklearn.metrics import accuracy_score\n",
    "gpc_score = accuracy_score(y_test, gpc_pred) * 100\n",
    "results.update({'Gaussian Process Classifier' : gpc_score})\n",
    "print(\"Accuracy using gpc: \", round(gpc_score, 1), \"%\")"
   ]
  },
  {
   "cell_type": "code",
   "execution_count": 78,
   "metadata": {},
   "outputs": [
    {
     "name": "stdout",
     "output_type": "stream",
     "text": [
      "Accuracy using linear regression:  66.6 %\n"
     ]
    }
   ],
   "source": [
    "from sklearn.linear_model import LinearRegression\n",
    "regressor = LinearRegression()\n",
    "reg = regressor.fit(x_train, y_train)\n",
    "linreg_score =  reg.score(x_train, y_train) * 100\n",
    "results.update({'Linear Regression' : linreg_score})\n",
    "print(\"Accuracy using linear regression: \", round(linreg_score, 1),'%')"
   ]
  },
  {
   "cell_type": "code",
   "execution_count": 97,
   "metadata": {},
   "outputs": [],
   "source": [
    "q = x_test.iloc[55]"
   ]
  },
  {
   "cell_type": "code",
   "execution_count": 98,
   "metadata": {},
   "outputs": [
    {
     "data": {
      "text/plain": [
       "4.0"
      ]
     },
     "execution_count": 98,
     "metadata": {},
     "output_type": "execute_result"
    }
   ],
   "source": [
    "m = grad.predict([q])\n",
    "m[0]"
   ]
  },
  {
   "cell_type": "code",
   "execution_count": 99,
   "metadata": {},
   "outputs": [
    {
     "data": {
      "text/plain": [
       "470.0"
      ]
     },
     "execution_count": 99,
     "metadata": {},
     "output_type": "execute_result"
    }
   ],
   "source": [
    "m[0]*100 + random.randrange(0, 9) * 10"
   ]
  },
  {
   "cell_type": "code",
   "execution_count": null,
   "metadata": {},
   "outputs": [],
   "source": []
  }
 ],
 "metadata": {
  "kernelspec": {
   "display_name": "Python 3",
   "language": "python",
   "name": "python3"
  },
  "language_info": {
   "codemirror_mode": {
    "name": "ipython",
    "version": 3
   },
   "file_extension": ".py",
   "mimetype": "text/x-python",
   "name": "python",
   "nbconvert_exporter": "python",
   "pygments_lexer": "ipython3",
   "version": "3.7.3"
  }
 },
 "nbformat": 4,
 "nbformat_minor": 4
}
